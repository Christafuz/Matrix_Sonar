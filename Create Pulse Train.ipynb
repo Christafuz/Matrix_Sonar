{
 "cells": [
  {
   "cell_type": "code",
   "execution_count": 36,
   "metadata": {},
   "outputs": [],
   "source": [
    "## Kirk Jungles\n",
    "## Pulse Train\n",
    "\n",
    "## Class: ECE 435/535 Winter 2020\n",
    "## Instructor: Mr. McGarvey\n",
    "\n",
    "## Estimated Time to complete\n",
    "\n",
    "# Setup Notebook\n",
    "%matplotlib inline\n",
    "from matplotlib import pyplot as plt\n",
    "import numpy as np\n",
    "from scipy import signal\n",
    "import pandas as pd\n"
   ]
  },
  {
   "cell_type": "code",
   "execution_count": 37,
   "metadata": {
    "scrolled": true
   },
   "outputs": [
    {
     "name": "stdout",
     "output_type": "stream",
     "text": [
      "====================\n",
      "Time and Frequency\n",
      "PRI:0.2 s, PW 0.005s, Fc 2000 Hz, Tc 0.0005 s\n",
      "\n",
      "\n",
      "====================\n",
      "Space and Time\n",
      "PRI: 68.60 m, PW 1.72 m, kc 5.83 cycles/meter, lambda 0.17 m\n"
     ]
    }
   ],
   "source": [
    "# Parameters\n",
    "A = 1 # Amplitude\n",
    "fc = 2000 # Frequency in Hz (audible range)\n",
    "PRI = 0.2 # Pulse Repetition Interval(in seconds)\n",
    "\n",
    "num_periods = 10 # Number of periods in pulse\n",
    "Tc = 1/fc # Period of center frequency\n",
    "PW = Tc*num_periods\n",
    "\n",
    "num_pulses = 10\n",
    "\n",
    "print('='*20)\n",
    "print(\"Time and Frequency\")\n",
    "print('PRI:{} s, PW {}s, Fc {} Hz, Tc {} s'.format(PRI, PW, fc, Tc))\n",
    "print('\\n')\n",
    "\n",
    "# Spatial information \n",
    "vp = 343 # m/s speed of sound \n",
    "PRI_x = PRI * vp # Spatial width of PRI\n",
    "PW_x = PW * vp # Spatial width of Pulse\n",
    "kc = fc/vp # Wavenumber k for center frequency\n",
    "Lc = vp/fc # Wavelength of center frequency\n",
    "\n",
    "print('='*20)\n",
    "print(\"Space and Time\")\n",
    "print('PRI: {:.02f} m, PW {:.02f} m, kc {:.02f} cycles/meter, lambda {:.02f} m'\n",
    "      .format(PRI_x, PW_x, kc, Lc))"
   ]
  },
  {
   "cell_type": "code",
   "execution_count": 38,
   "metadata": {},
   "outputs": [
    {
     "name": "stdout",
     "output_type": "stream",
     "text": [
      "====================\n",
      "Time-domain Values\n"
     ]
    },
    {
     "data": {
      "text/html": [
       "<div>\n",
       "<style scoped>\n",
       "    .dataframe tbody tr th:only-of-type {\n",
       "        vertical-align: middle;\n",
       "    }\n",
       "\n",
       "    .dataframe tbody tr th {\n",
       "        vertical-align: top;\n",
       "    }\n",
       "\n",
       "    .dataframe thead th {\n",
       "        text-align: right;\n",
       "    }\n",
       "</style>\n",
       "<table border=\"1\" class=\"dataframe\">\n",
       "  <thead>\n",
       "    <tr style=\"text-align: right;\">\n",
       "      <th></th>\n",
       "      <th>PRI (s)</th>\n",
       "      <th>PW(ms)</th>\n",
       "      <th>fc (kHz)</th>\n",
       "      <th>Tc ($\\mu$s)</th>\n",
       "    </tr>\n",
       "  </thead>\n",
       "  <tbody>\n",
       "    <tr>\n",
       "      <th>0</th>\n",
       "      <td>0.2</td>\n",
       "      <td>5.0</td>\n",
       "      <td>2.0</td>\n",
       "      <td>500.0</td>\n",
       "    </tr>\n",
       "  </tbody>\n",
       "</table>\n",
       "</div>"
      ],
      "text/plain": [
       "   PRI (s)  PW(ms)  fc (kHz)  Tc ($\\mu$s)\n",
       "0      0.2     5.0       2.0        500.0"
      ]
     },
     "execution_count": 38,
     "metadata": {},
     "output_type": "execute_result"
    }
   ],
   "source": [
    "#Creating Table with data\n",
    "print('='*20)\n",
    "print(\"Time-domain Values\")\n",
    "data1 = [[PRI, PW, fc, Tc],[PRI, PW*1e3, fc/1e3, Tc*1e6]]\n",
    "pd.DataFrame(data1[1:], columns=[\"PRI (s)\", \"PW(ms)\", \"fc (kHz)\", \"Tc ($\\mu$s)\"])\n"
   ]
  },
  {
   "cell_type": "code",
   "execution_count": 39,
   "metadata": {
    "scrolled": true
   },
   "outputs": [
    {
     "name": "stdout",
     "output_type": "stream",
     "text": [
      "====================\n",
      "Space-domain Values\n"
     ]
    },
    {
     "data": {
      "text/html": [
       "<div>\n",
       "<style scoped>\n",
       "    .dataframe tbody tr th:only-of-type {\n",
       "        vertical-align: middle;\n",
       "    }\n",
       "\n",
       "    .dataframe tbody tr th {\n",
       "        vertical-align: top;\n",
       "    }\n",
       "\n",
       "    .dataframe thead th {\n",
       "        text-align: right;\n",
       "    }\n",
       "</style>\n",
       "<table border=\"1\" class=\"dataframe\">\n",
       "  <thead>\n",
       "    <tr style=\"text-align: right;\">\n",
       "      <th></th>\n",
       "      <th>PRI (m)</th>\n",
       "      <th>PW(m)</th>\n",
       "      <th>kc (cycles/meter)</th>\n",
       "      <th>$\\lambda$ (m)</th>\n",
       "    </tr>\n",
       "  </thead>\n",
       "  <tbody>\n",
       "    <tr>\n",
       "      <th>0</th>\n",
       "      <td>68.6</td>\n",
       "      <td>1.715</td>\n",
       "      <td>5.830904</td>\n",
       "      <td>0.1715</td>\n",
       "    </tr>\n",
       "  </tbody>\n",
       "</table>\n",
       "</div>"
      ],
      "text/plain": [
       "   PRI (m)  PW(m)  kc (cycles/meter)  $\\lambda$ (m)\n",
       "0     68.6  1.715           5.830904         0.1715"
      ]
     },
     "execution_count": 39,
     "metadata": {},
     "output_type": "execute_result"
    }
   ],
   "source": [
    "\n",
    "print('='*20)\n",
    "print(\"Space-domain Values\")\n",
    "data2 = [[PRI_x, PW_x, kc, Lc],[PRI_x, PW_x, kc, Lc]]\n",
    "pd.DataFrame(data2[1:], columns=[\"PRI (m)\", \"PW(m)\", \"kc (cycles/meter)\", \"$\\lambda$ (m)\"])\n"
   ]
  },
  {
   "cell_type": "code",
   "execution_count": 40,
   "metadata": {
    "scrolled": true
   },
   "outputs": [
    {
     "name": "stdout",
     "output_type": "stream",
     "text": [
      "Desired Sample Rate : 40000.0 samples/sec\n",
      "Sample Rate Check: is 40000.0 less than 100000 == True\n",
      "Desired Sample Rate usable\n",
      "[0. 1. 1. ... 0. 0. 0.]\n"
     ]
    },
    {
     "data": {
      "text/plain": [
       "Text(0.5, 1.0, 'Mask for Pulse Train PW = 0.005s')"
      ]
     },
     "execution_count": 40,
     "metadata": {},
     "output_type": "execute_result"
    },
    {
     "data": {
      "image/png": "[encoded data removed]",
      "text/plain": [
       "<Figure size 432x288 with 1 Axes>"
      ]
     },
     "metadata": {
      "needs_background": "light"
     },
     "output_type": "display_data"
    }
   ],
   "source": [
    "#Creating Waveform\n",
    "FS_MAX = 100000 # maximum sample rate for audio transmitter\n",
    "\n",
    "# create the time step for sampling \n",
    "fmax = fc \n",
    "Tmax = 1/fmax\n",
    "dt = Tmax/20 #dt = Tcenter frequency / 20\n",
    "\n",
    "PWidx = np.int(PW/dt)\n",
    "\n",
    "# calculate required sample rate\n",
    "fs = 1/dt\n",
    "derp = fs < FS_MAX\n",
    "print('Desired Sample Rate : {} samples/sec'.format(fs))\n",
    "print('Sample Rate Check: is {} less than {} == {}'.format(fs, FS_MAX, derp))\n",
    "\n",
    "if derp == False:\n",
    "    print('\\n ***** Desired Sample Rate too high! ***** ')\n",
    "else:\n",
    "    print('Desired Sample Rate usable')\n",
    "    \n",
    "#Create time array\n",
    "t_unit = PRI\n",
    "t_vector = np.arange(0,t_unit,dt)\n",
    "\n",
    "\n",
    "#Mask to zero out non-on region\n",
    "mask = np.zeros_like(t_vector)\n",
    "sample = t_vector[0]\n",
    "idx = 1 \n",
    "while sample < PW:\n",
    "    mask[idx] = 1\n",
    "    idx += 1\n",
    "    sample = t_vector[idx]\n",
    "\n",
    "print(mask)\n",
    "\n",
    "plt.plot(t_vector[:len(mask)],mask)\n",
    "plt.xlabel('seconds')\n",
    "plt.ylabel('True/False')\n",
    "plt.title('Mask for Pulse Train PW = {}s'.format(PW))"
   ]
  },
  {
   "cell_type": "code",
   "execution_count": 41,
   "metadata": {
    "scrolled": true
   },
   "outputs": [
    {
     "data": {
      "text/plain": [
       "Text(0, 0.5, 'Amplitude')"
      ]
     },
     "execution_count": 41,
     "metadata": {},
     "output_type": "execute_result"
    },
    {
     "data": {
      "image/png": "[encoded data removed]",
      "text/plain": [
       "<Figure size 432x288 with 1 Axes>"
      ]
     },
     "metadata": {
      "needs_background": "light"
     },
     "output_type": "display_data"
    }
   ],
   "source": [
    "# Create Sine wave\n",
    "signal = A*np.sin(2. * np.pi*np.int(fc)*t_vector) # Signal length of full time vector\n",
    "\n",
    "plt.plot(t_vector[0:PWidx], signal[0:PWidx])\n",
    "plt.title('Fc {} kHz    For one Pulse Width'.format(fc/1e3))\n",
    "plt.xlabel('time (s)')\n",
    "plt.ylabel('Amplitude')\n",
    "\n",
    "#Mask sine wave to create pulsed sine\n",
    "signal = signal * mask\n",
    "plt.plot(t_vector[0:3*PWidx],signal[0:3*PWidx])\n",
    "plt.title('Pulse Train Unit to 3*PW')\n",
    "plt.xlabel('time (s)')\n",
    "plt.ylabel('Amplitude')"
   ]
  },
  {
   "cell_type": "code",
   "execution_count": 42,
   "metadata": {},
   "outputs": [
    {
     "data": {
      "text/plain": [
       "Text(0, 0.5, 'Amplitude')"
      ]
     },
     "execution_count": 42,
     "metadata": {},
     "output_type": "execute_result"
    },
    {
     "data": {
      "image/png": "[encoded data removed]",
      "text/plain": [
       "<Figure size 432x288 with 1 Axes>"
      ]
     },
     "metadata": {
      "needs_background": "light"
     },
     "output_type": "display_data"
    }
   ],
   "source": [
    "# Repeate Pulses now\n",
    "t_pulse_train_length = PRI * num_pulses # time in seconds\n",
    "t_pulse_train = t_pulse_train_length*fs\n",
    "\n",
    "unit_signal = signal\n",
    "\n",
    "for idx in range(0,Num_pulses):\n",
    "    signal = np.concatenate((signal, unit_signal))\n",
    "\n",
    "t_max = len(signal)\n",
    "t_vector = np.arange(0,len(signal)*dt,dt)\n",
    "\n",
    "plt.plot(t_vector, signal, 'xkcd:mango')\n",
    "plt.title('Pulse Train')\n",
    "plt.xlabel('Seconds')\n",
    "plt.ylabel('Amplitude')"
   ]
  },
  {
   "cell_type": "code",
   "execution_count": 59,
   "metadata": {},
   "outputs": [
    {
     "name": "stdout",
     "output_type": "stream",
     "text": [
      "Filename is: Pulse_train_2020-02-17_23-18-46.wav\n"
     ]
    }
   ],
   "source": [
    "# Create .wav file\n",
    "import wave, datetime, struct\n",
    "\n",
    "#Create filename\n",
    "date_str = str(datetime.datetime.now())\n",
    "date_str = date_str.replace(':','-')\n",
    "date_str = date_str[0:10] + '_' + date_str[11:19]\n",
    "\n",
    "fname = 'Pulse_train_' + date_str + '.wav'\n",
    "print('Filename is: ' + fname)\n",
    "\n",
    "'''\n",
    "#Create file\n",
    "obj = wave.open(fname,'w')\n",
    "obj.setnchannels(2)\n",
    "obj.setframerate(fs) #sampling frequency as before\n",
    "for idx in range(len(signal)):\n",
    "    data = struct.pack('<h',signal[idx])\n",
    "    obj.writeframes(data)\n",
    "obj.close()\n",
    "'''\n",
    "\n",
    "from scipy.io.wavfile import write\n",
    "\n",
    "sample_rate = np.int(fs)\n",
    "\n",
    "write(fname, sample_rate, signal)\n",
    "\n",
    "\n"
   ]
  }
 ],
 "metadata": {
  "kernelspec": {
   "display_name": "Python 3",
   "language": "python",
   "name": "python3"
  },
  "language_info": {
   "codemirror_mode": {
    "name": "ipython",
    "version": 3
   },
   "file_extension": ".py",
   "mimetype": "text/x-python",
   "name": "python",
   "nbconvert_exporter": "python",
   "pygments_lexer": "ipython3",
   "version": "3.6.8"
  }
 },
 "nbformat": 4,
 "nbformat_minor": 2
}
